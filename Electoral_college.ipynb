{
  "nbformat": 4,
  "nbformat_minor": 0,
  "metadata": {
    "colab": {
      "name": "Untitled0.ipynb",
      "provenance": []
    },
    "kernelspec": {
      "name": "python3",
      "display_name": "Python 3"
    }
  },
  "cells": [
    {
      "cell_type": "markdown",
      "metadata": {
        "id": "W8Z5Gs0V7UB0",
        "colab_type": "text"
      },
      "source": [
        "Suppose that there are $N$ voters in the country. The country is divided into $K$ states, and there are $N_i$ voters in the state $i$.\n",
        "Then $\\sum_{i=1}^K N_i=N$. The voters decide to cast their vote for one of the\n",
        "two possible parties: D, or R. Let us label the states where the majority (more than half) of voters are the R voters as R states, and enumerate them with index $i_r$, $r=1,\\dots,K_R$. Similarly, the D states are characterized by having majority of D voters, and will be labeled with index $i_d$, $d=1,\\cdots, K_D$. Then $K=K_R+K_D$. Let us label the number of R (D) voters in the state $i$ as $N_i^{(R)}$ ($N_i^{(D)}$).\n",
        "Define the total number of R and D voters in the R and D states, where they are either majority or minority, as\n",
        "\\begin{align}\n",
        "N^{(R)}_{\\textrm{maj}} &= \\sum_{r=1}^{K_R} N_{i_r}^{(R)}\\qquad\\rightarrow\\qquad\n",
        "\\textrm{total number of R voters in R states}\\\\\n",
        "N^{(R)}_{\\textrm{min}} &= \\sum_{d=1}^{K_D} N_{i_d}^{(R)}\\qquad\\rightarrow\\qquad\n",
        "\\textrm{total number of R voters in D states}\\\\\n",
        "N^{(D)}_{\\textrm{min}} &= \\sum_{r=1}^{K_R} N_{i_r}^{(D)}\\qquad\\rightarrow\\qquad\n",
        "\\textrm{total number of D voters in R states}\\\\\n",
        "N^{(D)}_{\\textrm{maj}} &= \\sum_{d=1}^{K_D} N_{i_d}^{(D)}\\qquad\\rightarrow\\qquad\n",
        "\\textrm{total number of D voters in D states}\n",
        "\\end{align}\n",
        "The total number of R and D voters are then\n",
        "\\begin{align}\n",
        "N^{(R)} &= N^{(R)}_{\\textrm{maj}} + N^{(R)}_{\\textrm{min}}\\,,\\\\\n",
        "N^{(D)} &= N^{(D)}_{\\textrm{maj}} + N^{(D)}_{\\textrm{min}}\\,,\n",
        "\\end{align}\n",
        "and the total number of voters is\n",
        "\\begin{equation}\n",
        "N = N^{(R)} + N^{(D)}\\,.\n",
        "\\end{equation}\n",
        "In the majority election the R party wins over the D party if\n",
        "\\begin{equation}\n",
        "N^{(R)} > N^{(D)}\\,,\n",
        "\\end{equation}\n",
        "that is, if\n",
        "\\begin{equation}\n",
        "N^{(R)}_{\\textrm{maj}} +N^{(R)}_{\\textrm{min}} > N^{(D)}_{\\textrm{maj}}\n",
        "+N^{(D)}_{\\textrm{min}} \\,.\n",
        "\\end{equation}\n",
        "In the electoral college system each state $i$ receives $V_i = f(N_i)$ electors,\n",
        "for some given function $f$, which will vote for the party which received majority of votes\n",
        "in the given state."
      ]
    },
    {
      "cell_type": "markdown",
      "metadata": {
        "id": "LFi09r4S7wQk",
        "colab_type": "text"
      },
      "source": [
        "Suppose  that $f(x) = \\alpha x$, i.e., the number of electors allocated to the state\n",
        "is determined proportionally to the size of the state, as measured by its population.\n",
        "Therefore in our conventions, the number of D and R electors are given by \n",
        "\\begin{align}\n",
        "V^{(R)} &=\\alpha \\, (N^{(R)}_{\\textrm{maj}} +N^{(D)}_{\\textrm{min}} )\\,,\\\\\n",
        "V^{(D)} &= \\alpha \\, (N^{(D)}_{\\textrm{maj}}+N^{(R)}_{\\textrm{min}} )\\,.\n",
        "\\end{align}\n",
        "Therefore R will lose electoral college if\n",
        "\\begin{equation}\n",
        "V^{(R)} < V^{(D)} \\,,\n",
        "\\end{equation}\n",
        "that is, if\n",
        "\\begin{equation}\n",
        "-N^{(R)}_{\\textrm{maj}} +N^{(R)}_{\\textrm{min}}  >\n",
        "- N^{(D)}_{\\textrm{maj}} +N^{(D)}_{\\textrm{min}}  \\,.\n",
        "\\end{equation}\n",
        "It then follows\n",
        "that the condition for the party (in our example, D) to win electoral college while\n",
        "losing the majority count is\n",
        "\\begin{equation}\n",
        "N^{(D)}_{\\textrm{min}}  < N^{(R)}_{\\textrm{min}} \\,,\n",
        "\\end{equation}\n",
        "\\textit{i.e.}, the total number of D voters in the R states is less than the total\n",
        "number of R voters in the D states. In other words, the electoral college system\n",
        "allows to give more voting power to minorities, by allowing the situation in which\n",
        "the winning party is also the party which has a lesser population of minority voters\n",
        "in their respective states. On a larger scale this phenomenon is manifested by D winning\n",
        "despite having less votes in the global election, \\textit{i.e.}, despite being in the minority\n",
        "overall. Another intuitive explanation is that for the given party to win it is unprofitable for that\n",
        "party to have its voters reside in the states where they will be in minority; because it will bolster\n",
        "the size of the state and increase the number of electors in that state, who will end up voting for an\n",
        "opponent anyway. This explains why majority of states are usually consistently R or D, and only\n",
        "a few states are 'swing' states."
      ]
    },
    {
      "cell_type": "markdown",
      "metadata": {
        "id": "WVOAEHs070KV",
        "colab_type": "text"
      },
      "source": [
        "On the other hand, the R will win both the majority count (popular vote / global election), if\n",
        "\\begin{equation}\n",
        "V^{(R)} > V^{(D)} \\,,\n",
        "\\end{equation}\n",
        "that is, if\n",
        "\\begin{equation}\n",
        "- N^{(D)}_{\\textrm{maj}} +N^{(D)}_{\\textrm{min}} >\n",
        "-N^{(R)}_{\\textrm{maj}} +N^{(R)}_{\\textrm{min}}    \\,.\n",
        "\\end{equation}\n",
        "It then follows\n",
        "\\begin{equation}\n",
        "N^{(R)}_{\\textrm{maj}}  > N^{(D)}_{\\textrm{maj}} \\,,\n",
        "\\end{equation}\n",
        "In other words, to win popular vote \\textit{while} winning the electoral college\n",
        "means to have larger population of the voters in the states where they are in the majority."
      ]
    }
  ]
}